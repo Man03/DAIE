{
 "cells": [
  {
   "cell_type": "code",
   "execution_count": 1,
   "id": "0762e0de",
   "metadata": {},
   "outputs": [
    {
     "name": "stdout",
     "output_type": "stream",
     "text": [
      "Collecting mlxtend\n",
      "  Downloading mlxtend-0.23.0-py3-none-any.whl (1.4 MB)\n",
      "     ---------------------------------------- 1.4/1.4 MB 358.4 kB/s eta 0:00:00\n",
      "Requirement already satisfied: scikit-learn>=1.0.2 in c:\\users\\zeeld\\appdata\\roaming\\python\\python310\\site-packages (from mlxtend) (1.1.1)\n",
      "Requirement already satisfied: scipy>=1.2.1 in c:\\users\\zeeld\\appdata\\roaming\\python\\python310\\site-packages (from mlxtend) (1.8.1)\n",
      "Requirement already satisfied: joblib>=0.13.2 in c:\\users\\zeeld\\appdata\\roaming\\python\\python310\\site-packages (from mlxtend) (1.1.0)\n",
      "Requirement already satisfied: matplotlib>=3.0.0 in c:\\users\\zeeld\\appdata\\roaming\\python\\python310\\site-packages (from mlxtend) (3.5.2)\n",
      "Requirement already satisfied: pandas>=0.24.2 in c:\\users\\zeeld\\appdata\\roaming\\python\\python310\\site-packages (from mlxtend) (1.4.3)\n",
      "Requirement already satisfied: numpy>=1.16.2 in c:\\python310\\lib\\site-packages (from mlxtend) (1.23.1)\n",
      "Requirement already satisfied: pillow>=6.2.0 in c:\\python310\\lib\\site-packages (from matplotlib>=3.0.0->mlxtend) (9.2.0)\n",
      "Requirement already satisfied: packaging>=20.0 in c:\\python310\\lib\\site-packages (from matplotlib>=3.0.0->mlxtend) (21.3)\n",
      "Requirement already satisfied: pyparsing>=2.2.1 in c:\\python310\\lib\\site-packages (from matplotlib>=3.0.0->mlxtend) (3.0.7)\n",
      "Requirement already satisfied: cycler>=0.10 in c:\\users\\zeeld\\appdata\\roaming\\python\\python310\\site-packages (from matplotlib>=3.0.0->mlxtend) (0.11.0)\n",
      "Requirement already satisfied: kiwisolver>=1.0.1 in c:\\users\\zeeld\\appdata\\roaming\\python\\python310\\site-packages (from matplotlib>=3.0.0->mlxtend) (1.4.3)\n",
      "Requirement already satisfied: python-dateutil>=2.7 in c:\\users\\zeeld\\appdata\\roaming\\python\\python310\\site-packages (from matplotlib>=3.0.0->mlxtend) (2.8.2)\n",
      "Requirement already satisfied: fonttools>=4.22.0 in c:\\users\\zeeld\\appdata\\roaming\\python\\python310\\site-packages (from matplotlib>=3.0.0->mlxtend) (4.34.4)\n",
      "Requirement already satisfied: pytz>=2020.1 in c:\\users\\zeeld\\appdata\\roaming\\python\\python310\\site-packages (from pandas>=0.24.2->mlxtend) (2022.1)\n",
      "Requirement already satisfied: threadpoolctl>=2.0.0 in c:\\users\\zeeld\\appdata\\roaming\\python\\python310\\site-packages (from scikit-learn>=1.0.2->mlxtend) (3.1.0)\n",
      "Requirement already satisfied: six>=1.5 in c:\\users\\zeeld\\appdata\\roaming\\python\\python310\\site-packages (from python-dateutil>=2.7->matplotlib>=3.0.0->mlxtend) (1.16.0)\n",
      "Installing collected packages: mlxtend\n",
      "Successfully installed mlxtend-0.23.0\n",
      "Note: you may need to restart the kernel to use updated packages.\n"
     ]
    },
    {
     "name": "stderr",
     "output_type": "stream",
     "text": [
      "WARNING: Ignoring invalid distribution -ip (c:\\python310\\lib\\site-packages)\n",
      "WARNING: Ignoring invalid distribution -ip (c:\\python310\\lib\\site-packages)\n",
      "WARNING: Ignoring invalid distribution -ip (c:\\python310\\lib\\site-packages)\n",
      "WARNING: Ignoring invalid distribution -ip (c:\\python310\\lib\\site-packages)\n",
      "WARNING: Ignoring invalid distribution -ip (c:\\python310\\lib\\site-packages)\n",
      "WARNING: Ignoring invalid distribution -ip (c:\\python310\\lib\\site-packages)\n",
      "WARNING: Ignoring invalid distribution -ip (c:\\python310\\lib\\site-packages)\n"
     ]
    }
   ],
   "source": [
    "pip install mlxtend"
   ]
  },
  {
   "cell_type": "code",
   "execution_count": 5,
   "id": "42fde614",
   "metadata": {},
   "outputs": [],
   "source": [
    "from mlxtend.preprocessing import TransactionEncoder\n",
    "from mlxtend.frequent_patterns import apriori, association_rules\n",
    "import pandas as pd"
   ]
  },
  {
   "cell_type": "code",
   "execution_count": 6,
   "id": "7f20db95",
   "metadata": {},
   "outputs": [],
   "source": [
    "data = [['A','B','C','D'],['B','C','D'],['A','C','D','B'],['A','B','D']]\n",
    "te = TransactionEncoder()\n",
    "te_arry = te.fit_transform(data)\n",
    "df= pd.DataFrame(te_arry, columns= te.columns_)"
   ]
  },
  {
   "cell_type": "code",
   "execution_count": 7,
   "id": "41900da5",
   "metadata": {},
   "outputs": [],
   "source": [
    "frq_items = apriori(df, min_support=0.6, use_colnames=True)"
   ]
  },
  {
   "cell_type": "code",
   "execution_count": 9,
   "id": "91aa2716",
   "metadata": {},
   "outputs": [],
   "source": [
    "rules=association_rules(frq_items, metric='confidence',min_threshold=0.7)"
   ]
  },
  {
   "cell_type": "code",
   "execution_count": 10,
   "id": "5a6f62f0",
   "metadata": {},
   "outputs": [
    {
     "name": "stdout",
     "output_type": "stream",
     "text": [
      "   antecedents consequents  antecedent support  consequent support  support  \\\n",
      "0          (B)         (A)                1.00                0.75     0.75   \n",
      "1          (A)         (B)                0.75                1.00     0.75   \n",
      "2          (D)         (A)                1.00                0.75     0.75   \n",
      "3          (A)         (D)                0.75                1.00     0.75   \n",
      "4          (B)         (C)                1.00                0.75     0.75   \n",
      "5          (C)         (B)                0.75                1.00     0.75   \n",
      "6          (B)         (D)                1.00                1.00     1.00   \n",
      "7          (D)         (B)                1.00                1.00     1.00   \n",
      "8          (D)         (C)                1.00                0.75     0.75   \n",
      "9          (C)         (D)                0.75                1.00     0.75   \n",
      "10      (B, D)         (A)                1.00                0.75     0.75   \n",
      "11      (B, A)         (D)                0.75                1.00     0.75   \n",
      "12      (D, A)         (B)                0.75                1.00     0.75   \n",
      "13         (B)      (D, A)                1.00                0.75     0.75   \n",
      "14         (D)      (B, A)                1.00                0.75     0.75   \n",
      "15         (A)      (B, D)                0.75                1.00     0.75   \n",
      "16      (B, C)         (D)                0.75                1.00     0.75   \n",
      "17      (B, D)         (C)                1.00                0.75     0.75   \n",
      "18      (D, C)         (B)                0.75                1.00     0.75   \n",
      "19         (B)      (D, C)                1.00                0.75     0.75   \n",
      "20         (C)      (B, D)                0.75                1.00     0.75   \n",
      "21         (D)      (B, C)                1.00                0.75     0.75   \n",
      "\n",
      "    confidence  lift  leverage  conviction  zhangs_metric  \n",
      "0         0.75   1.0       0.0         1.0            0.0  \n",
      "1         1.00   1.0       0.0         inf            0.0  \n",
      "2         0.75   1.0       0.0         1.0            0.0  \n",
      "3         1.00   1.0       0.0         inf            0.0  \n",
      "4         0.75   1.0       0.0         1.0            0.0  \n",
      "5         1.00   1.0       0.0         inf            0.0  \n",
      "6         1.00   1.0       0.0         inf            0.0  \n",
      "7         1.00   1.0       0.0         inf            0.0  \n",
      "8         0.75   1.0       0.0         1.0            0.0  \n",
      "9         1.00   1.0       0.0         inf            0.0  \n",
      "10        0.75   1.0       0.0         1.0            0.0  \n",
      "11        1.00   1.0       0.0         inf            0.0  \n",
      "12        1.00   1.0       0.0         inf            0.0  \n",
      "13        0.75   1.0       0.0         1.0            0.0  \n",
      "14        0.75   1.0       0.0         1.0            0.0  \n",
      "15        1.00   1.0       0.0         inf            0.0  \n",
      "16        1.00   1.0       0.0         inf            0.0  \n",
      "17        0.75   1.0       0.0         1.0            0.0  \n",
      "18        1.00   1.0       0.0         inf            0.0  \n",
      "19        0.75   1.0       0.0         1.0            0.0  \n",
      "20        1.00   1.0       0.0         inf            0.0  \n",
      "21        0.75   1.0       0.0         1.0            0.0  \n"
     ]
    }
   ],
   "source": [
    "print(rules)"
   ]
  },
  {
   "cell_type": "code",
   "execution_count": null,
   "id": "8f019c17",
   "metadata": {},
   "outputs": [],
   "source": []
  }
 ],
 "metadata": {
  "kernelspec": {
   "display_name": "Python 3 (ipykernel)",
   "language": "python",
   "name": "python3"
  },
  "language_info": {
   "codemirror_mode": {
    "name": "ipython",
    "version": 3
   },
   "file_extension": ".py",
   "mimetype": "text/x-python",
   "name": "python",
   "nbconvert_exporter": "python",
   "pygments_lexer": "ipython3",
   "version": "3.10.4"
  }
 },
 "nbformat": 4,
 "nbformat_minor": 5
}
